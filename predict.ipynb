{
 "cells": [
  {
   "cell_type": "code",
   "execution_count": 4,
   "metadata": {},
   "outputs": [],
   "source": [
    "from keras.models import load_model\n",
    "from keras.preprocessing.image import img_to_array, load_img\n",
    "\n",
    "model = load_model('./models/inception-300.h5')"
   ]
  },
  {
   "cell_type": "code",
   "execution_count": 5,
   "metadata": {},
   "outputs": [],
   "source": [
    "import json\n",
    "\n",
    "dog_map = {}\n",
    "with open('dog_map.json') as f:\n",
    "    dog_map = json.load(f)"
   ]
  },
  {
   "cell_type": "code",
   "execution_count": 50,
   "metadata": {},
   "outputs": [
    {
     "name": "stdout",
     "output_type": "stream",
     "text": [
      "0.9850795269012451\n",
      "{'name': 'Golden Retriever', 'enum': 'Golden_retriever'}\n",
      "0.013614322990179062\n",
      "{'name': 'Labrador Retriever', 'enum': 'Labrador_retriever'}\n",
      "0.0005046521546319127\n",
      "{'name': 'Flat-Coated Retriever', 'enum': 'Flat-coated_retriever'}\n"
     ]
    }
   ],
   "source": [
    "import numpy as np\n",
    "\n",
    "IMG_SIZE = 300\n",
    "IMG_PATH = './golden.jpg'\n",
    "\n",
    "img = load_img(IMG_PATH, target_size=(IMG_SIZE, IMG_SIZE))\n",
    "x = img_to_array(img)\n",
    "x = x.reshape((1,) + x.shape)\n",
    "x = x/255\n",
    "\n",
    "# Array of confidence\n",
    "prediction = model.predict(x).tolist()[0]\n",
    "\n",
    "index_array = np.argpartition(prediction, -3)[-3:].tolist()\n",
    "\n",
    "for index in index_array[::-1]:\n",
    "    print(prediction[index])\n",
    "    print(dog_map[str(index)])\n",
    "\n",
    "# index = np.argmax(prediction)\n",
    "\n",
    "# print(prediction[0][index])\n",
    "# print(dog_map[str(index)])"
   ]
  },
  {
   "cell_type": "code",
   "execution_count": 44,
   "metadata": {},
   "outputs": [
    {
     "data": {
      "text/plain": [
       "'0.000000'"
      ]
     },
     "execution_count": 44,
     "metadata": {},
     "output_type": "execute_result"
    }
   ],
   "source": [
    "number = format(3.036820999113843e-07, 'f')\n",
    "number"
   ]
  },
  {
   "cell_type": "code",
   "execution_count": null,
   "metadata": {},
   "outputs": [],
   "source": []
  }
 ],
 "metadata": {
  "kernelspec": {
   "display_name": "Python 3",
   "language": "python",
   "name": "python3"
  },
  "language_info": {
   "codemirror_mode": {
    "name": "ipython",
    "version": 3
   },
   "file_extension": ".py",
   "mimetype": "text/x-python",
   "name": "python",
   "nbconvert_exporter": "python",
   "pygments_lexer": "ipython3",
   "version": "3.5.1"
  }
 },
 "nbformat": 4,
 "nbformat_minor": 2
}
