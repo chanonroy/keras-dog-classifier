{
 "cells": [
  {
   "cell_type": "code",
   "execution_count": 11,
   "metadata": {},
   "outputs": [],
   "source": [
    "import os\n",
    "import json"
   ]
  },
  {
   "cell_type": "code",
   "execution_count": 22,
   "metadata": {},
   "outputs": [],
   "source": [
    "# Build dog id mapping\n",
    "dog_map = {}\n",
    "\n",
    "for folder in os.listdir(\"./images/train\"):\n",
    "    # 000.Shiba_inu\n",
    "    id = int(folder.split('.')[0])\n",
    "    enum = folder.split('.')[1]\n",
    "    verbose_name = enum.replace(\"_\", \" \").title()\n",
    "    \n",
    "    dog_map[id] = {\n",
    "        'enum': enum,\n",
    "        'name': verbose_name\n",
    "    }\n",
    "\n",
    "with open('dog_map.json', 'w') as fp:\n",
    "    json.dump(dog_map, fp)"
   ]
  },
  {
   "cell_type": "code",
   "execution_count": null,
   "metadata": {},
   "outputs": [],
   "source": []
  }
 ],
 "metadata": {
  "kernelspec": {
   "display_name": "Python 3",
   "language": "python",
   "name": "python3"
  },
  "language_info": {
   "codemirror_mode": {
    "name": "ipython",
    "version": 3
   },
   "file_extension": ".py",
   "mimetype": "text/x-python",
   "name": "python",
   "nbconvert_exporter": "python",
   "pygments_lexer": "ipython3",
   "version": "3.5.1"
  }
 },
 "nbformat": 4,
 "nbformat_minor": 2
}
