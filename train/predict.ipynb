{
 "cells": [
  {
   "cell_type": "code",
   "execution_count": 1,
   "metadata": {},
   "outputs": [
    {
     "name": "stderr",
     "output_type": "stream",
     "text": [
      "Using TensorFlow backend.\n"
     ]
    }
   ],
   "source": [
    "from keras.models import load_model\n",
    "from keras.preprocessing.image import img_to_array, load_img\n",
    "\n",
    "BASE_DIR = '../server/'\n",
    "\n",
    "model = load_model(BASE_DIR + 'models/inception-300.h5')"
   ]
  },
  {
   "cell_type": "code",
   "execution_count": 2,
   "metadata": {},
   "outputs": [],
   "source": [
    "import json\n",
    "\n",
    "dog_map = {}\n",
    "with open(BASE_DIR + 'dog_map.json') as f:\n",
    "    dog_map = json.load(f)"
   ]
  },
  {
   "cell_type": "code",
   "execution_count": 18,
   "metadata": {},
   "outputs": [
    {
     "name": "stdout",
     "output_type": "stream",
     "text": [
      "[[[[0.8980392  0.9529412  1.        ]\n",
      "   [0.8980392  0.9529412  1.        ]\n",
      "   [0.8980392  0.9529412  1.        ]\n",
      "   ...\n",
      "   [0.8627451  0.9019608  0.9372549 ]\n",
      "   [0.8627451  0.9019608  0.9372549 ]\n",
      "   [0.8627451  0.9019608  0.9372549 ]]\n",
      "\n",
      "  [[0.8980392  0.9529412  1.        ]\n",
      "   [0.8980392  0.9529412  1.        ]\n",
      "   [0.8980392  0.9529412  1.        ]\n",
      "   ...\n",
      "   [0.8627451  0.9019608  0.9372549 ]\n",
      "   [0.8627451  0.9019608  0.9372549 ]\n",
      "   [0.8627451  0.9019608  0.9372549 ]]\n",
      "\n",
      "  [[0.8980392  0.9529412  1.        ]\n",
      "   [0.8980392  0.9529412  1.        ]\n",
      "   [0.8980392  0.9529412  1.        ]\n",
      "   ...\n",
      "   [0.8627451  0.9019608  0.9372549 ]\n",
      "   [0.8627451  0.9019608  0.9372549 ]\n",
      "   [0.8627451  0.9019608  0.9372549 ]]\n",
      "\n",
      "  ...\n",
      "\n",
      "  [[0.8039216  0.8784314  0.9372549 ]\n",
      "   [0.8        0.8745098  0.93333334]\n",
      "   [0.79607844 0.87058824 0.92941177]\n",
      "   ...\n",
      "   [0.42352942 0.52156866 0.60784316]\n",
      "   [0.41568628 0.5176471  0.58431375]\n",
      "   [0.5803922  0.68235296 0.73333335]]\n",
      "\n",
      "  [[0.80784315 0.88235295 0.9411765 ]\n",
      "   [0.8039216  0.8784314  0.9372549 ]\n",
      "   [0.8        0.8745098  0.93333334]\n",
      "   ...\n",
      "   [0.4392157  0.5294118  0.6       ]\n",
      "   [0.6        0.6862745  0.76862746]\n",
      "   [0.58431375 0.67058825 0.7529412 ]]\n",
      "\n",
      "  [[0.8        0.8745098  0.93333334]\n",
      "   [0.79607844 0.87058824 0.92941177]\n",
      "   [0.7882353  0.8627451  0.92156863]\n",
      "   ...\n",
      "   [0.12156863 0.1764706  0.1882353 ]\n",
      "   [0.21568628 0.2627451  0.30980393]\n",
      "   [0.42352942 0.47058824 0.53333336]]]]\n",
      "0.9999921321868896\n",
      "{'enum': 'Border_collie', 'name': 'Border Collie'}\n",
      "7.480710337404162e-06\n",
      "{'enum': 'Australian_shepherd', 'name': 'Australian Shepherd'}\n",
      "3.036820999113843e-07\n",
      "{'enum': 'Flat-coated_retriever', 'name': 'Flat-Coated Retriever'}\n"
     ]
    }
   ],
   "source": [
    "import os\n",
    "import numpy as np\n",
    "from PIL import Image\n",
    "from keras.applications import imagenet_utils\n",
    "\n",
    "IMG_SIZE = 300\n",
    "IMG_PATH = './test/border.jpg'\n",
    "\n",
    "img = Image.open(IMG_PATH, mode='r')\n",
    "img = img.resize((IMG_SIZE, IMG_SIZE))\n",
    "img = img_to_array(img)\n",
    "img = np.expand_dims(img, axis=0)\n",
    "img = img/255\n",
    "\n",
    "print(img)\n",
    "\n",
    "# Array of confidence\n",
    "prediction = model.predict(img).tolist()[0]\n",
    "\n",
    "index_array = np.argpartition(prediction, -3)[-3:].tolist()\n",
    "\n",
    "for index in index_array[::-1]:\n",
    "    print(prediction[index])\n",
    "    print(dog_map[str(index)])"
   ]
  },
  {
   "cell_type": "code",
   "execution_count": 44,
   "metadata": {},
   "outputs": [
    {
     "data": {
      "text/plain": [
       "'0.000000'"
      ]
     },
     "execution_count": 44,
     "metadata": {},
     "output_type": "execute_result"
    }
   ],
   "source": []
  },
  {
   "cell_type": "code",
   "execution_count": null,
   "metadata": {},
   "outputs": [],
   "source": []
  }
 ],
 "metadata": {
  "kernelspec": {
   "display_name": "Python 3",
   "language": "python",
   "name": "python3"
  },
  "language_info": {
   "codemirror_mode": {
    "name": "ipython",
    "version": 3
   },
   "file_extension": ".py",
   "mimetype": "text/x-python",
   "name": "python",
   "nbconvert_exporter": "python",
   "pygments_lexer": "ipython3",
   "version": "3.5.1"
  }
 },
 "nbformat": 4,
 "nbformat_minor": 2
}
