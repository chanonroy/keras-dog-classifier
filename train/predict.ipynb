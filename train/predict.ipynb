{
 "cells": [
  {
   "cell_type": "code",
   "execution_count": 31,
   "metadata": {},
   "outputs": [],
   "source": [
    "from keras.models import load_model\n",
    "from keras.preprocessing.image import img_to_array, load_img\n",
    "\n",
    "BASE_DIR = '../server/'\n",
    "\n",
    "model = load_model(BASE_DIR + 'models/inception-300.h5')"
   ]
  },
  {
   "cell_type": "code",
   "execution_count": 32,
   "metadata": {},
   "outputs": [],
   "source": [
    "import json\n",
    "\n",
    "dog_map = {}\n",
    "with open(BASE_DIR + 'dog_map.json') as f:\n",
    "    dog_map = json.load(f)"
   ]
  },
  {
   "cell_type": "code",
   "execution_count": 51,
   "metadata": {},
   "outputs": [
    {
     "name": "stdout",
     "output_type": "stream",
     "text": [
      "[[[[0.8980392  0.9529412  0.99607843]\n",
      "   [0.8980392  0.9529412  0.99607843]\n",
      "   [0.8980392  0.9529412  0.99607843]\n",
      "   ...\n",
      "   [0.8627451  0.9019608  0.9372549 ]\n",
      "   [0.8627451  0.9019608  0.9372549 ]\n",
      "   [0.8627451  0.9019608  0.9372549 ]]\n",
      "\n",
      "  [[0.8980392  0.9529412  0.99607843]\n",
      "   [0.8980392  0.9529412  0.99607843]\n",
      "   [0.8980392  0.9529412  0.99607843]\n",
      "   ...\n",
      "   [0.8627451  0.9019608  0.9372549 ]\n",
      "   [0.8627451  0.9019608  0.9372549 ]\n",
      "   [0.8627451  0.9019608  0.9372549 ]]\n",
      "\n",
      "  [[0.8980392  0.9529412  0.99607843]\n",
      "   [0.8980392  0.9529412  0.99607843]\n",
      "   [0.8980392  0.9529412  0.99607843]\n",
      "   ...\n",
      "   [0.8627451  0.9019608  0.9372549 ]\n",
      "   [0.8627451  0.9019608  0.9372549 ]\n",
      "   [0.8627451  0.9019608  0.9372549 ]]\n",
      "\n",
      "  ...\n",
      "\n",
      "  [[0.80784315 0.88235295 0.9411765 ]\n",
      "   [0.8        0.8745098  0.93333334]\n",
      "   [0.79607844 0.87058824 0.92941177]\n",
      "   ...\n",
      "   [0.44705883 0.5254902  0.61960787]\n",
      "   [0.42745098 0.50980395 0.58431375]\n",
      "   [0.5921569  0.6745098  0.7411765 ]]\n",
      "\n",
      "  [[0.8117647  0.8862745  0.94509804]\n",
      "   [0.80784315 0.88235295 0.9411765 ]\n",
      "   [0.8        0.8745098  0.93333334]\n",
      "   ...\n",
      "   [0.4509804  0.5137255  0.5764706 ]\n",
      "   [0.61960787 0.68235296 0.74509805]\n",
      "   [0.6039216  0.6666667  0.7294118 ]]\n",
      "\n",
      "  [[0.8        0.8745098  0.93333334]\n",
      "   [0.7921569  0.8666667  0.9254902 ]\n",
      "   [0.7882353  0.8627451  0.92156863]\n",
      "   ...\n",
      "   [0.13333334 0.17254902 0.20784314]\n",
      "   [0.23137255 0.27058825 0.31764707]\n",
      "   [0.43137255 0.46666667 0.53333336]]]]\n",
      "0.9999802112579346\n",
      "{'enum': 'Border_collie', 'name': 'Border Collie'}\n",
      "1.902229996630922e-05\n",
      "{'enum': 'Australian_shepherd', 'name': 'Australian Shepherd'}\n",
      "5.483432232722407e-07\n",
      "{'enum': 'Flat-coated_retriever', 'name': 'Flat-Coated Retriever'}\n"
     ]
    }
   ],
   "source": [
    "import os\n",
    "import numpy as np\n",
    "from PIL import Image\n",
    "\n",
    "IMG_SIZE = 300\n",
    "IMG_PATH = './test/border.jpg'\n",
    "\n",
    "# Version 1\n",
    "\n",
    "img = Image.open(IMG_PATH, mode='r')\n",
    "FILE_NAME = 'dog' + '.' + img.format\n",
    "img.save(FILE_NAME + '.' + img.format)\n",
    "img = load_img(FILE_NAME, target_size=(IMG_SIZE, IMG_SIZE))\n",
    "x = img_to_array(img)\n",
    "x = x.reshape((1,) + x.shape)\n",
    "x = x/255\n",
    "print(x)\n",
    "\n",
    "os.remove(FILE_NAME)\n",
    "\n",
    "# Version 2\n",
    "# img = Image.open(IMG_PATH, mode='r')\n",
    "# img = img.resize((IMG_SIZE, IMG_SIZE))\n",
    "# img = img_to_array(img)\n",
    "# img = np.expand_dims(img, axis=0)\n",
    "# print(img)\n",
    "\n",
    "# Array of confidence\n",
    "prediction = model.predict(x).tolist()[0]\n",
    "\n",
    "index_array = np.argpartition(prediction, -3)[-3:].tolist()\n",
    "\n",
    "for index in index_array[::-1]:\n",
    "    print(prediction[index])\n",
    "    print(dog_map[str(index)])\n",
    "\n",
    "# index = np.argmax(prediction)\n",
    "\n",
    "# print(prediction[0][index])\n",
    "# print(dog_map[str(index)])"
   ]
  },
  {
   "cell_type": "code",
   "execution_count": 44,
   "metadata": {},
   "outputs": [
    {
     "data": {
      "text/plain": [
       "'0.000000'"
      ]
     },
     "execution_count": 44,
     "metadata": {},
     "output_type": "execute_result"
    }
   ],
   "source": []
  },
  {
   "cell_type": "code",
   "execution_count": null,
   "metadata": {},
   "outputs": [],
   "source": []
  }
 ],
 "metadata": {
  "kernelspec": {
   "display_name": "Python 3",
   "language": "python",
   "name": "python3"
  },
  "language_info": {
   "codemirror_mode": {
    "name": "ipython",
    "version": 3
   },
   "file_extension": ".py",
   "mimetype": "text/x-python",
   "name": "python",
   "nbconvert_exporter": "python",
   "pygments_lexer": "ipython3",
   "version": "3.5.1"
  }
 },
 "nbformat": 4,
 "nbformat_minor": 2
}
